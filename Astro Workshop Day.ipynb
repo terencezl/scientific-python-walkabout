{
 "cells": [
  {
   "cell_type": "markdown",
   "metadata": {},
   "source": [
    "#Python + Astronomy\n",
    "This course will be an introduction to Astropy, a maturing library for astronomy routines and tools in Python.\n",
    "\n",
    "[Astropy](http://astropy.org) started as a combination of various common Python libraries (Pyfits, PyWCS, asciitables, and others) and is working towards providing a consistent API with capabilities for all astronomers. It is developed with extensive [automated testing](https://en.wikipedia.org/wiki/Software_testing), long-term stable releases, [extensive documentation](https://astropy.readthedocs.org/), and a friendly community for [contributions](http://www.astropy.org/contribute.html).\n",
    "\n",
    "Note that this design differs from the [IDL Astronomy User's Library](http://idlastro.gsfc.nasa.gov/), which is essentially a mishmash of routines.\n",
    "\n",
    "These tutorials make some use of the examples at:\n",
    "- [The official Astropy Tutorials](http://www.astropy.org/astropy-tutorials/)\n",
    "- [A Workshop Given at SciPy 2014](https://astropy4scipy2014.readthedocs.org/en/latest/)"
   ]
  },
  {
   "cell_type": "code",
   "execution_count": 1,
   "metadata": {
    "collapsed": true,
    "scrolled": false
   },
   "outputs": [],
   "source": [
    "# First, make sure this works:\n",
    "import astropy\n",
    "# If this doesn't work, raise your hand!"
   ]
  },
  {
   "cell_type": "markdown",
   "metadata": {},
   "source": [
    "## Using FITS files in Python\n",
    "\n",
    "FITS files are the commonly used data format in astronomy: they are essentially collections of \"header data units,\" which can be images, tables, or some other type of data."
   ]
  },
  {
   "cell_type": "code",
   "execution_count": 2,
   "metadata": {
    "collapsed": false,
    "scrolled": false
   },
   "outputs": [
    {
     "name": "stdout",
     "output_type": "stream",
     "text": [
      "[<astropy.io.fits.hdu.image.PrimaryHDU object at 0x7f84472a75c0>, <astropy.io.fits.hdu.table.TableHDU object at 0x7f84472b26d8>]\n"
     ]
    }
   ],
   "source": [
    "# First we load the fits submodule from astropy:\n",
    "from astropy.io import fits\n",
    "\n",
    "# Then we load a fits file (here an image from the Schmidt telescope)\n",
    "hdu_list = fits.open('http://data.astropy.org/tutorials/FITS-images/HorseHead.fits')\n",
    "print(hdu_list)"
   ]
  },
  {
   "cell_type": "markdown",
   "metadata": {},
   "source": [
    "The FITS file contains two header data units, a Primary HDU and an ASCII table HDU (see [NASA's Primer](http://fits.gsfc.nasa.gov/fits_primer.html)) for the different types and limitations.\n",
    "\n",
    "We can use the `hdu_list` object like a list to obtain information about each HDU:"
   ]
  },
  {
   "cell_type": "code",
   "execution_count": 3,
   "metadata": {
    "collapsed": false,
    "scrolled": false
   },
   "outputs": [
    {
     "name": "stdout",
     "output_type": "stream",
     "text": [
      "[[ 7201  6642  6642 ...,  9498  9498 10057]\n",
      " [ 6642  6363  6642 ..., 10057 10616 10616]\n",
      " [ 6922  6642  6922 ..., 10337 11175 10616]\n",
      " ..., \n",
      " [ 5412  5132  5412 ..., 13000 12580 12021]\n",
      " [ 5796  5517  5796 ..., 12546 12546 11987]\n",
      " [ 5796  5796  6076 ..., 11987 12546 12546]]\n",
      "<class 'numpy.ndarray'>\n",
      "OG590\n",
      "(893, 891)\n"
     ]
    }
   ],
   "source": [
    "print(hdu_list[0].data)\n",
    "print(type(hdu_list[0].data))\n",
    "print(hdu_list[0].header['FILTER'])\n",
    "print(hdu_list[0].shape)"
   ]
  },
  {
   "cell_type": "code",
   "execution_count": 4,
   "metadata": {
    "collapsed": false,
    "scrolled": true
   },
   "outputs": [
    {
     "data": {
      "text/plain": [
       "SIMPLE  =                    T /FITS: Compliance                                \n",
       "BITPIX  =                   16 /FITS: I*2 Data                                  \n",
       "NAXIS   =                    2 /FITS: 2-D Image Data                            \n",
       "NAXIS1  =                  891 /FITS: X Dimension                               \n",
       "NAXIS2  =                  893 /FITS: Y Dimension                               \n",
       "EXTEND  =                    T /FITS: File can contain extensions               \n",
       "DATE    = '2014-01-09        '  /FITS: Creation Date                            \n",
       "ORIGIN  = 'STScI/MAST'         /GSSS: STScI Digitized Sky Survey                \n",
       "SURVEY  = 'SERC-ER '           /GSSS: Sky Survey                                \n",
       "REGION  = 'ER768   '           /GSSS: Region Name                               \n",
       "PLATEID = 'A0JP    '           /GSSS: Plate ID                                  \n",
       "SCANNUM = '01      '           /GSSS: Scan Number                               \n",
       "DSCNDNUM= '00      '           /GSSS: Descendant Number                         \n",
       "TELESCID=                    4 /GSSS: Telescope ID                              \n",
       "BANDPASS=                   36 /GSSS: Bandpass Code                             \n",
       "COPYRGHT= 'AAO/ROE '           /GSSS: Copyright Holder                          \n",
       "SITELAT =              -31.277 /Observatory: Latitude                           \n",
       "SITELONG=              210.934 /Observatory: Longitude                          \n",
       "TELESCOP= 'UK Schmidt - Doubl' /Observatory: Telescope                          \n",
       "INSTRUME= 'Photographic Plate' /Detector: Photographic Plate                    \n",
       "EMULSION= 'IIIaF   '           /Detector: Emulsion                              \n",
       "FILTER  = 'OG590   '           /Detector: Filter                                \n",
       "PLTSCALE=                67.20 /Detector: Plate Scale arcsec per mm             \n",
       "PLTSIZEX=              355.000 /Detector: Plate X Dimension mm                  \n",
       "PLTSIZEY=              355.000 /Detector: Plate Y Dimension mm                  \n",
       "PLATERA =        85.5994550000 /Observation: Field centre RA degrees            \n",
       "PLATEDEC=       -4.94660910000 /Observation: Field centre Dec degrees           \n",
       "PLTLABEL= 'OR14052 '           /Observation: Plate Label                        \n",
       "DATE-OBS= '1990-12-22T13:49:00' /Observation: Date/Time                         \n",
       "EXPOSURE=                 65.0 /Observation: Exposure Minutes                   \n",
       "PLTGRADE= 'AD2     '           /Observation: Plate Grade                        \n",
       "OBSHA   =             0.158333 /Observation: Hour Angle                         \n",
       "OBSZD   =              26.3715 /Observation: Zenith Distance                    \n",
       "AIRMASS =              1.11587 /Observation: Airmass                            \n",
       "REFBETA =        66.3196420000 /Observation: Refraction Coeff                   \n",
       "REFBETAP=     -0.0820000000000 /Observation: Refraction Coeff                   \n",
       "REFK1   =        6423.52290000 /Observation: Refraction Coeff                   \n",
       "REFK2   =       -102122.550000 /Observation: Refraction Coeff                   \n",
       "CNPIX1  =                12237 /Scan: X Corner                                  \n",
       "CNPIX2  =                19965 /Scan: Y Corner                                  \n",
       "XPIXELS =                23040 /Scan: X Dimension                               \n",
       "YPIXELS =                23040 /Scan: Y Dimension                               \n",
       "XPIXELSZ=              15.0295 /Scan: Pixel Size microns                        \n",
       "YPIXELSZ=              15.0000 /Scan: Pixel Size microns                        \n",
       "PPO1    =       -3069417.00000 /Scan: Orientation Coeff                         \n",
       "PPO2    =       0.000000000000 /Scan: Orientation Coeff                         \n",
       "PPO3    =        177500.000000 /Scan: Orientation Coeff                         \n",
       "PPO4    =       0.000000000000 /Scan: Orientation Coeff                         \n",
       "PPO5    =        3069417.00000 /Scan: Orientation Coeff                         \n",
       "PPO6    =        177500.000000 /Scan: Orientation Coeff                         \n",
       "PLTRAH  =                    5 /Astrometry: Plate Centre H                      \n",
       "PLTRAM  =                   42 /Astrometry: Plate Centre M                      \n",
       "PLTRAS  =                23.86 /Astrometry: Plate Centre S                      \n",
       "PLTDECSN= '-       '           /Astrometry: Plate Centre +/-                    \n",
       "PLTDECD =                    4 /Astrometry: Plate Centre D                      \n",
       "PLTDECM =                   56 /Astrometry: Plate Centre M                      \n",
       "PLTDECS =                 47.9 /Astrometry: Plate Centre S                      \n",
       "EQUINOX =               2000.0 /Astrometry: Equinox                             \n",
       "AMDX1   =        67.1550859799 /Astrometry: GSC1 Coeff                          \n",
       "AMDX2   =      0.0431478884485 /Astrometry: GSC1 Coeff                          \n",
       "AMDX3   =       -292.435619180 /Astrometry: GSC1 Coeff                          \n",
       "AMDX4   =  -2.68934864702E-005 /Astrometry: GSC1 Coeff                          \n",
       "AMDX5   =   1.99133423290E-005 /Astrometry: GSC1 Coeff                          \n",
       "AMDX6   =  -2.37011931379E-006 /Astrometry: GSC1 Coeff                          \n",
       "AMDX7   =       0.000000000000 /Astrometry: GSC1 Coeff                          \n",
       "AMDX8   =   2.21426387429E-006 /Astrometry: GSC1 Coeff                          \n",
       "AMDX9   =  -8.12841581455E-008 /Astrometry: GSC1 Coeff                          \n",
       "AMDX10  =   2.48169090021E-006 /Astrometry: GSC1 Coeff                          \n",
       "AMDX11  =   2.77618933926E-008 /Astrometry: GSC1 Coeff                          \n",
       "AMDX12  =       0.000000000000 /Astrometry: GSC1 Coeff                          \n",
       "AMDX13  =       0.000000000000 /Astrometry: GSC1 Coeff                          \n",
       "AMDX14  =       0.000000000000 /Astrometry: GSC1 Coeff                          \n",
       "AMDX15  =       0.000000000000 /Astrometry: GSC1 Coeff                          \n",
       "AMDX16  =       0.000000000000 /Astrometry: GSC1 Coeff                          \n",
       "AMDX17  =       0.000000000000 /Astrometry: GSC1 Coeff                          \n",
       "AMDX18  =       0.000000000000 /Astrometry: GSC1 Coeff                          \n",
       "AMDX19  =       0.000000000000 /Astrometry: GSC1 Coeff                          \n",
       "AMDX20  =       0.000000000000 /Astrometry: GSC1 Coeff                          \n",
       "AMDY1   =        67.1593591466 /Astrometry: GSC1 Coeff                          \n",
       "AMDY2   =     -0.0471363749174 /Astrometry: GSC1 Coeff                          \n",
       "AMDY3   =        316.004963520 /Astrometry: GSC1 Coeff                          \n",
       "AMDY4   =   2.86798151430E-005 /Astrometry: GSC1 Coeff                          \n",
       "AMDY5   =  -2.00968236347E-005 /Astrometry: GSC1 Coeff                          \n",
       "AMDY6   =   2.27840393227E-005 /Astrometry: GSC1 Coeff                          \n",
       "AMDY7   =       0.000000000000 /Astrometry: GSC1 Coeff                          \n",
       "AMDY8   =   2.23885090381E-006 /Astrometry: GSC1 Coeff                          \n",
       "AMDY9   =  -2.28360163464E-008 /Astrometry: GSC1 Coeff                          \n",
       "AMDY10  =   2.44828851495E-006 /Astrometry: GSC1 Coeff                          \n",
       "AMDY11  =  -5.76717487998E-008 /Astrometry: GSC1 Coeff                          \n",
       "AMDY12  =       0.000000000000 /Astrometry: GSC1 Coeff                          \n",
       "AMDY13  =       0.000000000000 /Astrometry: GSC1 Coeff                          \n",
       "AMDY14  =       0.000000000000 /Astrometry: GSC1 Coeff                          \n",
       "AMDY15  =       0.000000000000 /Astrometry: GSC1 Coeff                          \n",
       "AMDY16  =       0.000000000000 /Astrometry: GSC1 Coeff                          \n",
       "AMDY17  =       0.000000000000 /Astrometry: GSC1 Coeff                          \n",
       "AMDY18  =       0.000000000000 /Astrometry: GSC1 Coeff                          \n",
       "AMDY19  =       0.000000000000 /Astrometry: GSC1 Coeff                          \n",
       "AMDY20  =       0.000000000000 /Astrometry: GSC1 Coeff                          \n",
       "AMDREX1 =        67.1532034737 /Astrometry: GSC2 Coeff                          \n",
       "AMDREX2 =      0.0434354199559 /Astrometry: GSC2 Coeff                          \n",
       "AMDREX3 =       -292.435438892 /Astrometry: GSC2 Coeff                          \n",
       "AMDREX4 =   4.60919247070E-006 /Astrometry: GSC2 Coeff                          \n",
       "AMDREX5 =  -3.21138058537E-006 /Astrometry: GSC2 Coeff                          \n",
       "AMDREX6 =   7.23651736725E-006 /Astrometry: GSC2 Coeff                          \n",
       "AMDREX7 =       0.000000000000 /Astrometry: GSC2 Coeff                          \n",
       "AMDREX8 =       0.000000000000 /Astrometry: GSC2 Coeff                          \n",
       "AMDREX9 =       0.000000000000 /Astrometry: GSC2 Coeff                          \n",
       "AMDREX10=       0.000000000000 /Astrometry: GSC2 Coeff                          \n",
       "AMDREX11=       0.000000000000 /Astrometry: GSC2 Coeff                          \n",
       "AMDREX12=       0.000000000000 /Astrometry: GSC2 Coeff                          \n",
       "AMDREX13=       0.000000000000 /Astrometry: GSC2 Coeff                          \n",
       "AMDREX14=       0.000000000000 /Astrometry: GSC2 Coeff                          \n",
       "AMDREX15=       0.000000000000 /Astrometry: GSC2 Coeff                          \n",
       "AMDREX16=       0.000000000000 /Astrometry: GSC2 Coeff                          \n",
       "AMDREX17=       0.000000000000 /Astrometry: GSC2 Coeff                          \n",
       "AMDREX18=       0.000000000000 /Astrometry: GSC2 Coeff                          \n",
       "AMDREX19=       0.000000000000 /Astrometry: GSC2 Coeff                          \n",
       "AMDREX20=       0.000000000000 /Astrometry: GSC2 Coeff                          \n",
       "AMDREY1 =        67.1522589487 /Astrometry: GSC2 Coeff                          \n",
       "AMDREY2 =     -0.0481758265285 /Astrometry: GSC2 Coeff                          \n",
       "AMDREY3 =        315.995683716 /Astrometry: GSC2 Coeff                          \n",
       "AMDREY4 =  -7.47397531230E-006 /Astrometry: GSC2 Coeff                          \n",
       "AMDREY5 =   9.55221105409E-007 /Astrometry: GSC2 Coeff                          \n",
       "AMDREY6 =   7.60954485251E-006 /Astrometry: GSC2 Coeff                          \n",
       "AMDREY7 =       0.000000000000 /Astrometry: GSC2 Coeff                          \n",
       "AMDREY8 =       0.000000000000 /Astrometry: GSC2 Coeff                          \n",
       "AMDREY9 =       0.000000000000 /Astrometry: GSC2 Coeff                          \n",
       "AMDREY10=       0.000000000000 /Astrometry: GSC2 Coeff                          \n",
       "AMDREY11=       0.000000000000 /Astrometry: GSC2 Coeff                          \n",
       "AMDREY12=       0.000000000000 /Astrometry: GSC2 Coeff                          \n",
       "AMDREY13=       0.000000000000 /Astrometry: GSC2 Coeff                          \n",
       "AMDREY14=       0.000000000000 /Astrometry: GSC2 Coeff                          \n",
       "AMDREY15=       0.000000000000 /Astrometry: GSC2 Coeff                          \n",
       "AMDREY16=       0.000000000000 /Astrometry: GSC2 Coeff                          \n",
       "AMDREY17=       0.000000000000 /Astrometry: GSC2 Coeff                          \n",
       "AMDREY18=       0.000000000000 /Astrometry: GSC2 Coeff                          \n",
       "AMDREY19=       0.000000000000 /Astrometry: GSC2 Coeff                          \n",
       "AMDREY20=       0.000000000000 /Astrometry: GSC2 Coeff                          \n",
       "ASTRMASK= 'er.mask '           /Astrometry: GSC2 Mask                           \n",
       "WCSAXES =                    2 /GetImage: Number WCS axes                       \n",
       "WCSNAME = 'DSS               ' /GetImage: Local WCS approximation from full plat\n",
       "RADESYS = 'ICRS              ' /GetImage: GSC-II calibration using ICRS system  \n",
       "CTYPE1  = 'RA---TAN          ' /GetImage: RA-Gnomic projection                  \n",
       "CRPIX1  =           446.000000 /GetImage: X reference pixel                     \n",
       "CRVAL1  =            85.274970 /GetImage: RA of reference pixel                 \n",
       "CUNIT1  = 'deg               ' /GetImage: degrees                               \n",
       "CTYPE2  = 'DEC--TAN          ' /GetImage: Dec-Gnomic projection                 \n",
       "CRPIX2  =           447.000000 /GetImage: Y reference pixel                     \n",
       "CRVAL2  =            -2.458265 /GetImage: Dec of reference pixel                \n",
       "CUNIT2  = 'deg               ' /Getimage: degrees                               \n",
       "CD1_1   =        -0.0002802651 /GetImage: rotation matrix coefficient           \n",
       "CD1_2   =         0.0000003159 /GetImage: rotation matrix coefficient           \n",
       "CD2_1   =         0.0000002767 /GetImage: rotation matrix coefficient           \n",
       "CD2_2   =         0.0002798187 /GetImage: rotation matrix coefficient           \n",
       "OBJECT  = 'data              ' /GetImage: Requested Object Name                 \n",
       "DATAMIN =                 3759 /GetImage: Minimum returned pixel value          \n",
       "DATAMAX =                22918 /GetImage: Maximum returned pixel value          \n",
       "OBJCTRA = '05 41 06.000      ' /GetImage: Requested Right Ascension (J2000)     \n",
       "OBJCTDEC= '-02 27 30.00      ' /GetImage: Requested Declination (J2000)         \n",
       "OBJCTX  =             12682.48 /GetImage: Requested X on plate (pixels)         \n",
       "OBJCTY  =             20411.37 /GetImage: Requested Y on plate (pixels)         "
      ]
     },
     "execution_count": 4,
     "metadata": {},
     "output_type": "execute_result"
    }
   ],
   "source": [
    "# We can also display the full header to get a better idea of what we are looking at\n",
    "hdu_list[0].header"
   ]
  },
  {
   "cell_type": "markdown",
   "metadata": {},
   "source": [
    "Since this is an image, we could take a look at it with the `matplotlib` package:"
   ]
  },
  {
   "cell_type": "code",
   "execution_count": 5,
   "metadata": {
    "collapsed": false,
    "scrolled": false
   },
   "outputs": [
    {
     "data": {
      "text/plain": [
       "<matplotlib.colorbar.Colorbar at 0x7f8443e809b0>"
      ]
     },
     "execution_count": 5,
     "metadata": {},
     "output_type": "execute_result"
    },
    {
     "data": {
      "image/png": "[encoded data removed]",
      "text/plain": [
       "<matplotlib.figure.Figure at 0x7f8446c36550>"
      ]
     },
     "metadata": {},
     "output_type": "display_data"
    }
   ],
   "source": [
    "# If using ipython notebook:\n",
    "%matplotlib inline\n",
    "\n",
    "# Load matplotlib\n",
    "import matplotlib.pyplot as plt\n",
    "# Load colormaps (the default is somewhat ugly)\n",
    "from matplotlib import cm\n",
    "\n",
    "# If *not* using ipython notebook:\n",
    "# plt.ion()\n",
    "\n",
    "plt.imshow(hdu_list[0].data, cmap=cm.gist_heat)\n",
    "plt.colorbar()"
   ]
  },
  {
   "cell_type": "markdown",
   "metadata": {},
   "source": [
    "We can manipulate the HDU's in any way that we want with the astropy.io.fits submodule:"
   ]
  },
  {
   "cell_type": "code",
   "execution_count": 6,
   "metadata": {
    "collapsed": false,
    "scrolled": true
   },
   "outputs": [
    {
     "name": "stdout",
     "output_type": "stream",
     "text": [
      "[[3600 3321 3321 ..., 4749 4749 5028]\n",
      " [3321 3181 3321 ..., 5028 5308 5308]\n",
      " [3461 3321 3461 ..., 5168 5587 5308]\n",
      " ..., \n",
      " [2706 2566 2706 ..., 6500 6290 6010]\n",
      " [2898 2758 2898 ..., 6273 6273 5993]\n",
      " [2898 2898 3038 ..., 5993 6273 6273]]\n"
     ]
    },
    {
     "data": {
      "text/plain": [
       "SIMPLE  =                    T /FITS: Compliance                                \n",
       "BITPIX  =                   16 /FITS: I*2 Data                                  \n",
       "NAXIS   =                    2 /FITS: 2-D Image Data                            \n",
       "NAXIS1  =                  891 /FITS: X Dimension                               \n",
       "NAXIS2  =                  893 /FITS: Y Dimension                               \n",
       "EXTEND  =                    T /FITS: File can contain extensions               \n",
       "DATE    = '2014-01-09        '  /FITS: Creation Date                            \n",
       "ORIGIN  = 'STScI/MAST'         /GSSS: STScI Digitized Sky Survey                \n",
       "SURVEY  = 'SERC-ER '           /GSSS: Sky Survey                                \n",
       "REGION  = 'ER768   '           /GSSS: Region Name                               \n",
       "PLATEID = 'A0JP    '           /GSSS: Plate ID                                  \n",
       "SCANNUM = '01      '           /GSSS: Scan Number                               \n",
       "DSCNDNUM= '00      '           /GSSS: Descendant Number                         \n",
       "TELESCID=                    4 /GSSS: Telescope ID                              \n",
       "BANDPASS=                   36 /GSSS: Bandpass Code                             \n",
       "COPYRGHT= 'AAO/ROE '           /GSSS: Copyright Holder                          \n",
       "SITELAT =              -31.277 /Observatory: Latitude                           \n",
       "SITELONG=              210.934 /Observatory: Longitude                          \n",
       "TELESCOP= 'UK Schmidt - Doubl' /Observatory: Telescope                          \n",
       "INSTRUME= 'Photographic Plate' /Detector: Photographic Plate                    \n",
       "EMULSION= 'IIIaF   '           /Detector: Emulsion                              \n",
       "FILTER  = 'Changed '           / Detector: Filter                               \n",
       "PLTSCALE=                67.20 /Detector: Plate Scale arcsec per mm             \n",
       "PLTSIZEX=              355.000 /Detector: Plate X Dimension mm                  \n",
       "PLTSIZEY=              355.000 /Detector: Plate Y Dimension mm                  \n",
       "PLATERA =        85.5994550000 /Observation: Field centre RA degrees            \n",
       "PLATEDEC=       -4.94660910000 /Observation: Field centre Dec degrees           \n",
       "PLTLABEL= 'OR14052 '           /Observation: Plate Label                        \n",
       "DATE-OBS= '1990-12-22T13:49:00' /Observation: Date/Time                         \n",
       "EXPOSURE=                 65.0 /Observation: Exposure Minutes                   \n",
       "PLTGRADE= 'AD2     '           /Observation: Plate Grade                        \n",
       "OBSHA   =             0.158333 /Observation: Hour Angle                         \n",
       "OBSZD   =              26.3715 /Observation: Zenith Distance                    \n",
       "AIRMASS =              1.11587 /Observation: Airmass                            \n",
       "REFBETA =        66.3196420000 /Observation: Refraction Coeff                   \n",
       "REFBETAP=     -0.0820000000000 /Observation: Refraction Coeff                   \n",
       "REFK1   =        6423.52290000 /Observation: Refraction Coeff                   \n",
       "REFK2   =       -102122.550000 /Observation: Refraction Coeff                   \n",
       "CNPIX1  =                12237 /Scan: X Corner                                  \n",
       "CNPIX2  =                19965 /Scan: Y Corner                                  \n",
       "XPIXELS =                23040 /Scan: X Dimension                               \n",
       "YPIXELS =                23040 /Scan: Y Dimension                               \n",
       "XPIXELSZ=              15.0295 /Scan: Pixel Size microns                        \n",
       "YPIXELSZ=              15.0000 /Scan: Pixel Size microns                        \n",
       "PPO1    =       -3069417.00000 /Scan: Orientation Coeff                         \n",
       "PPO2    =       0.000000000000 /Scan: Orientation Coeff                         \n",
       "PPO3    =        177500.000000 /Scan: Orientation Coeff                         \n",
       "PPO4    =       0.000000000000 /Scan: Orientation Coeff                         \n",
       "PPO5    =        3069417.00000 /Scan: Orientation Coeff                         \n",
       "PPO6    =        177500.000000 /Scan: Orientation Coeff                         \n",
       "PLTRAH  =                    5 /Astrometry: Plate Centre H                      \n",
       "PLTRAM  =                   42 /Astrometry: Plate Centre M                      \n",
       "PLTRAS  =                23.86 /Astrometry: Plate Centre S                      \n",
       "PLTDECSN= '-       '           /Astrometry: Plate Centre +/-                    \n",
       "PLTDECD =                    4 /Astrometry: Plate Centre D                      \n",
       "PLTDECM =                   56 /Astrometry: Plate Centre M                      \n",
       "PLTDECS =                 47.9 /Astrometry: Plate Centre S                      \n",
       "EQUINOX =               2000.0 /Astrometry: Equinox                             \n",
       "AMDX1   =        67.1550859799 /Astrometry: GSC1 Coeff                          \n",
       "AMDX2   =      0.0431478884485 /Astrometry: GSC1 Coeff                          \n",
       "AMDX3   =       -292.435619180 /Astrometry: GSC1 Coeff                          \n",
       "AMDX4   =  -2.68934864702E-005 /Astrometry: GSC1 Coeff                          \n",
       "AMDX5   =   1.99133423290E-005 /Astrometry: GSC1 Coeff                          \n",
       "AMDX6   =  -2.37011931379E-006 /Astrometry: GSC1 Coeff                          \n",
       "AMDX7   =       0.000000000000 /Astrometry: GSC1 Coeff                          \n",
       "AMDX8   =   2.21426387429E-006 /Astrometry: GSC1 Coeff                          \n",
       "AMDX9   =  -8.12841581455E-008 /Astrometry: GSC1 Coeff                          \n",
       "AMDX10  =   2.48169090021E-006 /Astrometry: GSC1 Coeff                          \n",
       "AMDX11  =   2.77618933926E-008 /Astrometry: GSC1 Coeff                          \n",
       "AMDX12  =       0.000000000000 /Astrometry: GSC1 Coeff                          \n",
       "AMDX13  =       0.000000000000 /Astrometry: GSC1 Coeff                          \n",
       "AMDX14  =       0.000000000000 /Astrometry: GSC1 Coeff                          \n",
       "AMDX15  =       0.000000000000 /Astrometry: GSC1 Coeff                          \n",
       "AMDX16  =       0.000000000000 /Astrometry: GSC1 Coeff                          \n",
       "AMDX17  =       0.000000000000 /Astrometry: GSC1 Coeff                          \n",
       "AMDX18  =       0.000000000000 /Astrometry: GSC1 Coeff                          \n",
       "AMDX19  =       0.000000000000 /Astrometry: GSC1 Coeff                          \n",
       "AMDX20  =       0.000000000000 /Astrometry: GSC1 Coeff                          \n",
       "AMDY1   =        67.1593591466 /Astrometry: GSC1 Coeff                          \n",
       "AMDY2   =     -0.0471363749174 /Astrometry: GSC1 Coeff                          \n",
       "AMDY3   =        316.004963520 /Astrometry: GSC1 Coeff                          \n",
       "AMDY4   =   2.86798151430E-005 /Astrometry: GSC1 Coeff                          \n",
       "AMDY5   =  -2.00968236347E-005 /Astrometry: GSC1 Coeff                          \n",
       "AMDY6   =   2.27840393227E-005 /Astrometry: GSC1 Coeff                          \n",
       "AMDY7   =       0.000000000000 /Astrometry: GSC1 Coeff                          \n",
       "AMDY8   =   2.23885090381E-006 /Astrometry: GSC1 Coeff                          \n",
       "AMDY9   =  -2.28360163464E-008 /Astrometry: GSC1 Coeff                          \n",
       "AMDY10  =   2.44828851495E-006 /Astrometry: GSC1 Coeff                          \n",
       "AMDY11  =  -5.76717487998E-008 /Astrometry: GSC1 Coeff                          \n",
       "AMDY12  =       0.000000000000 /Astrometry: GSC1 Coeff                          \n",
       "AMDY13  =       0.000000000000 /Astrometry: GSC1 Coeff                          \n",
       "AMDY14  =       0.000000000000 /Astrometry: GSC1 Coeff                          \n",
       "AMDY15  =       0.000000000000 /Astrometry: GSC1 Coeff                          \n",
       "AMDY16  =       0.000000000000 /Astrometry: GSC1 Coeff                          \n",
       "AMDY17  =       0.000000000000 /Astrometry: GSC1 Coeff                          \n",
       "AMDY18  =       0.000000000000 /Astrometry: GSC1 Coeff                          \n",
       "AMDY19  =       0.000000000000 /Astrometry: GSC1 Coeff                          \n",
       "AMDY20  =       0.000000000000 /Astrometry: GSC1 Coeff                          \n",
       "AMDREX1 =        67.1532034737 /Astrometry: GSC2 Coeff                          \n",
       "AMDREX2 =      0.0434354199559 /Astrometry: GSC2 Coeff                          \n",
       "AMDREX3 =       -292.435438892 /Astrometry: GSC2 Coeff                          \n",
       "AMDREX4 =   4.60919247070E-006 /Astrometry: GSC2 Coeff                          \n",
       "AMDREX5 =  -3.21138058537E-006 /Astrometry: GSC2 Coeff                          \n",
       "AMDREX6 =   7.23651736725E-006 /Astrometry: GSC2 Coeff                          \n",
       "AMDREX7 =       0.000000000000 /Astrometry: GSC2 Coeff                          \n",
       "AMDREX8 =       0.000000000000 /Astrometry: GSC2 Coeff                          \n",
       "AMDREX9 =       0.000000000000 /Astrometry: GSC2 Coeff                          \n",
       "AMDREX10=       0.000000000000 /Astrometry: GSC2 Coeff                          \n",
       "AMDREX11=       0.000000000000 /Astrometry: GSC2 Coeff                          \n",
       "AMDREX12=       0.000000000000 /Astrometry: GSC2 Coeff                          \n",
       "AMDREX13=       0.000000000000 /Astrometry: GSC2 Coeff                          \n",
       "AMDREX14=       0.000000000000 /Astrometry: GSC2 Coeff                          \n",
       "AMDREX15=       0.000000000000 /Astrometry: GSC2 Coeff                          \n",
       "AMDREX16=       0.000000000000 /Astrometry: GSC2 Coeff                          \n",
       "AMDREX17=       0.000000000000 /Astrometry: GSC2 Coeff                          \n",
       "AMDREX18=       0.000000000000 /Astrometry: GSC2 Coeff                          \n",
       "AMDREX19=       0.000000000000 /Astrometry: GSC2 Coeff                          \n",
       "AMDREX20=       0.000000000000 /Astrometry: GSC2 Coeff                          \n",
       "AMDREY1 =        67.1522589487 /Astrometry: GSC2 Coeff                          \n",
       "AMDREY2 =     -0.0481758265285 /Astrometry: GSC2 Coeff                          \n",
       "AMDREY3 =        315.995683716 /Astrometry: GSC2 Coeff                          \n",
       "AMDREY4 =  -7.47397531230E-006 /Astrometry: GSC2 Coeff                          \n",
       "AMDREY5 =   9.55221105409E-007 /Astrometry: GSC2 Coeff                          \n",
       "AMDREY6 =   7.60954485251E-006 /Astrometry: GSC2 Coeff                          \n",
       "AMDREY7 =       0.000000000000 /Astrometry: GSC2 Coeff                          \n",
       "AMDREY8 =       0.000000000000 /Astrometry: GSC2 Coeff                          \n",
       "AMDREY9 =       0.000000000000 /Astrometry: GSC2 Coeff                          \n",
       "AMDREY10=       0.000000000000 /Astrometry: GSC2 Coeff                          \n",
       "AMDREY11=       0.000000000000 /Astrometry: GSC2 Coeff                          \n",
       "AMDREY12=       0.000000000000 /Astrometry: GSC2 Coeff                          \n",
       "AMDREY13=       0.000000000000 /Astrometry: GSC2 Coeff                          \n",
       "AMDREY14=       0.000000000000 /Astrometry: GSC2 Coeff                          \n",
       "AMDREY15=       0.000000000000 /Astrometry: GSC2 Coeff                          \n",
       "AMDREY16=       0.000000000000 /Astrometry: GSC2 Coeff                          \n",
       "AMDREY17=       0.000000000000 /Astrometry: GSC2 Coeff                          \n",
       "AMDREY18=       0.000000000000 /Astrometry: GSC2 Coeff                          \n",
       "AMDREY19=       0.000000000000 /Astrometry: GSC2 Coeff                          \n",
       "AMDREY20=       0.000000000000 /Astrometry: GSC2 Coeff                          \n",
       "ASTRMASK= 'er.mask '           /Astrometry: GSC2 Mask                           \n",
       "WCSAXES =                    2 /GetImage: Number WCS axes                       \n",
       "WCSNAME = 'DSS               ' /GetImage: Local WCS approximation from full plat\n",
       "RADESYS = 'ICRS              ' /GetImage: GSC-II calibration using ICRS system  \n",
       "CTYPE1  = 'RA---TAN          ' /GetImage: RA-Gnomic projection                  \n",
       "CRPIX1  =           446.000000 /GetImage: X reference pixel                     \n",
       "CRVAL1  =            85.274970 /GetImage: RA of reference pixel                 \n",
       "CUNIT1  = 'deg               ' /GetImage: degrees                               \n",
       "CTYPE2  = 'DEC--TAN          ' /GetImage: Dec-Gnomic projection                 \n",
       "CRPIX2  =           447.000000 /GetImage: Y reference pixel                     \n",
       "CRVAL2  =            -2.458265 /GetImage: Dec of reference pixel                \n",
       "CUNIT2  = 'deg               ' /Getimage: degrees                               \n",
       "CD1_1   =        -0.0002802651 /GetImage: rotation matrix coefficient           \n",
       "CD1_2   =         0.0000003159 /GetImage: rotation matrix coefficient           \n",
       "CD2_1   =         0.0000002767 /GetImage: rotation matrix coefficient           \n",
       "CD2_2   =         0.0002798187 /GetImage: rotation matrix coefficient           \n",
       "OBJECT  = 'data              ' /GetImage: Requested Object Name                 \n",
       "DATAMIN =                 3759 /GetImage: Minimum returned pixel value          \n",
       "DATAMAX =                22918 /GetImage: Maximum returned pixel value          \n",
       "OBJCTRA = '05 41 06.000      ' /GetImage: Requested Right Ascension (J2000)     \n",
       "OBJCTDEC= '-02 27 30.00      ' /GetImage: Requested Declination (J2000)         \n",
       "OBJCTX  =             12682.48 /GetImage: Requested X on plate (pixels)         \n",
       "OBJCTY  =             20411.37 /GetImage: Requested Y on plate (pixels)         \n",
       "FAKE    = 'New Header'                                                          "
      ]
     },
     "execution_count": 6,
     "metadata": {},
     "output_type": "execute_result"
    }
   ],
   "source": [
    "hdu_list[0].data /= 2\n",
    "hdu_list[0].header['FAKE'] = 'New Header'\n",
    "hdu_list[0].header['FILTER'] = 'Changed'\n",
    "print(hdu_list[0].data)\n",
    "hdu_list[0].header"
   ]
  },
  {
   "cell_type": "markdown",
   "metadata": {},
   "source": [
    "Let's write our new FITS file to our local computer. Running `pwd` will tell us what directory it is saved to."
   ]
  },
  {
   "cell_type": "code",
   "execution_count": 7,
   "metadata": {
    "collapsed": false,
    "scrolled": false
   },
   "outputs": [
    {
     "data": {
      "text/plain": [
       "'/home/joe/toledo/workshop/astro-python'"
      ]
     },
     "execution_count": 7,
     "metadata": {},
     "output_type": "execute_result"
    }
   ],
   "source": [
    "%pwd"
   ]
  },
  {
   "cell_type": "code",
   "execution_count": 8,
   "metadata": {
    "collapsed": false,
    "scrolled": false
   },
   "outputs": [],
   "source": [
    "hdu_list.writeto('new-horsehead.fits', clobber=True)"
   ]
  },
  {
   "cell_type": "markdown",
   "metadata": {},
   "source": [
    "##Astropy ASCII file reader\n",
    "While a number of ASCII file readers exist (including [numpy.genfromtxt](http://docs.scipy.org/doc/numpy/user/basics.io.genfromtxt.html), [numpy.loadtxt](http://docs.scipy.org/doc/numpy/reference/generated/numpy.loadtxt.html), and [pandas.read\\_\\*](http://pandas.pydata.org/pandas-docs/stable/io.html)), Astropy includes readers text file formats commonly used in Astronomy.\n",
    "\n",
    "These are read as an [Astropy Table](https://astropy.readthedocs.org/en/stable/table/index.html) object, which are convertable to numpy arrays or pandas DataFrames. These can contain unit information and there is work on-going to incoporate uncertainities."
   ]
  },
  {
   "cell_type": "code",
   "execution_count": 9,
   "metadata": {
    "collapsed": false,
    "scrolled": false
   },
   "outputs": [
    {
     "name": "stdout",
     "output_type": "stream",
     "text": [
      "Downloading http://samplecsvs.s3.amazonaws.com/Sacramentorealestatetransactions.csv [Done]\n",
      "             street                   city       zip  ...  latitude  longitude \n",
      "------------------------------- --------------- ----- ... --------- -----------\n",
      "                   3526 HIGH ST      SACRAMENTO 95838 ... 38.631913 -121.434879\n",
      "                    51 OMAHA CT      SACRAMENTO 95823 ... 38.478902 -121.431028\n",
      "                 2796 BRANCH ST      SACRAMENTO 95815 ... 38.618305 -121.443839\n",
      "               2805 JANETTE WAY      SACRAMENTO 95815 ... 38.616835 -121.439146\n",
      "                6001 MCMAHON DR      SACRAMENTO 95824 ...  38.51947 -121.435768\n",
      "             5828 PEPPERMILL CT      SACRAMENTO 95841 ... 38.662595 -121.327813\n",
      "            6048 OGDEN NASH WAY      SACRAMENTO 95842 ... 38.681659 -121.351705\n",
      "                  2561 19TH AVE      SACRAMENTO 95820 ... 38.535092 -121.481367\n",
      "11150 TRINITY RIVER DR Unit 114  RANCHO CORDOVA 95670 ... 38.621188 -121.270555\n",
      "                   7325 10TH ST       RIO LINDA 95673 ... 38.700909 -121.442979\n",
      "                            ...             ...   ... ...       ...         ...\n",
      "               7540 HICKORY AVE      ORANGEVALE 95662 ... 38.703056 -121.235221\n",
      "            5024 CHAMBERLIN CIR       ELK GROVE 95757 ... 38.389756 -121.446246\n",
      "              2400 INVERNESS DR         LINCOLN 95648 ... 38.897814 -121.324691\n",
      "                5 BISHOPGATE CT      SACRAMENTO 95823 ... 38.467936 -121.445477\n",
      "               5601 REXLEIGH DR      SACRAMENTO 95823 ... 38.445342 -121.441504\n",
      "               1909 YARNELL WAY       ELK GROVE 95758 ... 38.417382 -121.484325\n",
      "             9169 GARLINGTON CT      SACRAMENTO 95829 ... 38.457679  -121.35962\n",
      "                6932 RUSKUT WAY      SACRAMENTO 95823 ... 38.499893  -121.45889\n",
      "              7933 DAFFODIL WAY  CITRUS HEIGHTS 95610 ... 38.708824 -121.256803\n",
      "               8304 RED FOX WAY       ELK GROVE 95758 ...    38.417 -121.397424\n",
      "            3882 YELLOWSTONE LN EL DORADO HILLS 95762 ... 38.655245 -121.075915\n",
      "Length = 985 rows\n"
     ]
    }
   ],
   "source": [
    "# First we load the ascii submodule:\n",
    "from astropy.io import ascii\n",
    "\n",
    "example_csv = ascii.read('http://samplecsvs.s3.amazonaws.com/Sacramentorealestatetransactions.csv')\n",
    "print(example_csv)"
   ]
  },
  {
   "cell_type": "code",
   "execution_count": 10,
   "metadata": {
    "collapsed": false,
    "scrolled": false
   },
   "outputs": [
    {
     "name": "stdout",
     "output_type": "stream",
     "text": [
      "Downloading http://exoplanetarchive.ipac.caltech.edu/docs/tblexamples/IPAC_ASCII_one_header.tbl [Done]\n",
      " object       ra          dec     \n",
      "------- ------------- ------------\n",
      "    M56   289.1479411   30.1845005\n",
      " ic4710  277.15820833  66.98227778\n",
      "   hoix   49.38333333  69.04583333\n",
      "  tol89  210.33983333 -33.06377778\n",
      "    ngc 4552188.91586  12.55634139\n",
      "    M82   148.9696875  69.67938333\n",
      "  mrk33  158.13283333  54.40102778\n",
      "ngc1097     41.579375 -30.27488889\n",
      "    arp 22179.8745833 -19.29722222\n",
      "   M 65  169.73316667  13.09222222\n"
     ]
    }
   ],
   "source": [
    "# We can also read Astronomy-specific formats.\n",
    "# For example, IPAC formatted files\n",
    "example_ipac = ascii.read('http://exoplanetarchive.ipac.caltech.edu/docs/tblexamples/IPAC_ASCII_one_header.tbl')\n",
    "print(example_ipac)"
   ]
  },
  {
   "cell_type": "markdown",
   "metadata": {},
   "source": [
    "Tables support many of the same indexing and slicing operations as numpy arrays, as well as some of the higher-level operations of pandas. See the Astropy [tutorial](https://astropy4scipy2014.readthedocs.org/en/latest/_static/notebooks/03_Tables.html) for more examples."
   ]
  },
  {
   "cell_type": "markdown",
   "metadata": {},
   "source": [
    "##Units and Quantities\n",
    "\n",
    "A nice addition to Astropy is the ability to manipulate units used in astronomy. By convention, we import this functionality into the name `u`:"
   ]
  },
  {
   "cell_type": "code",
   "execution_count": 11,
   "metadata": {
    "collapsed": true,
    "scrolled": false
   },
   "outputs": [],
   "source": [
    "from astropy import units as u"
   ]
  },
  {
   "cell_type": "code",
   "execution_count": 12,
   "metadata": {
    "collapsed": false,
    "scrolled": false
   },
   "outputs": [
    {
     "data": {
      "text/plain": [
       "(Unit(\"m\"), Unit(\"Angstrom\"), Unit(\"erg\"), Unit(\"Jy\"), Unit(\"solMass\"))"
      ]
     },
     "execution_count": 12,
     "metadata": {},
     "output_type": "execute_result"
    }
   ],
   "source": [
    "# SI, cgs, and other units are defined in Astropy:\n",
    "u.m, u.angstrom, u.erg, u.Jy, u.solMass"
   ]
  },
  {
   "cell_type": "code",
   "execution_count": 13,
   "metadata": {
    "collapsed": false,
    "scrolled": false
   },
   "outputs": [
    {
     "name": "stdout",
     "output_type": "stream",
     "text": [
      "['solMass', 'M_sun', 'Msun']\n",
      "mass\n"
     ]
    }
   ],
   "source": [
    "# Units all have documentation and attributes\n",
    "print(u.solMass.names)\n",
    "print(u.solMass.physical_type)"
   ]
  },
  {
   "cell_type": "markdown",
   "metadata": {},
   "source": [
    "We can create composite units, such as units of acceleration:"
   ]
  },
  {
   "cell_type": "code",
   "execution_count": 14,
   "metadata": {
    "collapsed": false,
    "scrolled": false
   },
   "outputs": [
    {
     "data": {
      "text/latex": [
       "$\\mathrm{\\frac{m}{s^{2}}}$"
      ],
      "text/plain": [
       "Unit(\"m / s2\")"
      ]
     },
     "execution_count": 14,
     "metadata": {},
     "output_type": "execute_result"
    }
   ],
   "source": [
    "u.m / u.second / u.second"
   ]
  },
  {
   "cell_type": "code",
   "execution_count": 15,
   "metadata": {
    "collapsed": false,
    "scrolled": false
   },
   "outputs": [
    {
     "data": {
      "text/latex": [
       "$\\mathrm{\\frac{pc}{attosecond\\,fortnight}}$"
      ],
      "text/plain": [
       "Unit(\"pc / (attosecond fortnight)\")"
      ]
     },
     "execution_count": 15,
     "metadata": {},
     "output_type": "execute_result"
    }
   ],
   "source": [
    "u.pc / u.attosecond / u.fortnight"
   ]
  },
  {
   "cell_type": "markdown",
   "metadata": {},
   "source": [
    "In addition to unit manipulation, Astropy has a concept of Quantities - numbers (or arrays) with units:"
   ]
  },
  {
   "cell_type": "code",
   "execution_count": 16,
   "metadata": {
    "collapsed": false,
    "scrolled": false
   },
   "outputs": [
    {
     "name": "stdout",
     "output_type": "stream",
     "text": [
      "5.0 erg / s\n"
     ]
    },
    {
     "data": {
      "text/latex": [
       "$5 \\; \\mathrm{\\frac{erg}{s}}$"
      ],
      "text/plain": [
       "<Quantity 5.0 erg / s>"
      ]
     },
     "execution_count": 16,
     "metadata": {},
     "output_type": "execute_result"
    }
   ],
   "source": [
    "print(5*u.erg/u.second)\n",
    "5*u.erg/u.second"
   ]
  },
  {
   "cell_type": "code",
   "execution_count": 17,
   "metadata": {
    "collapsed": false,
    "scrolled": false
   },
   "outputs": [
    {
     "name": "stdout",
     "output_type": "stream",
     "text": [
      "[ 1.  2.  3.  4.  5.  6.] Hz\n"
     ]
    }
   ],
   "source": [
    "import numpy as np\n",
    "my_data = np.array([1,2,3,4,5,6]) * u.Hertz\n",
    "print(my_data)"
   ]
  },
  {
   "cell_type": "code",
   "execution_count": 18,
   "metadata": {
    "collapsed": false,
    "scrolled": false
   },
   "outputs": [
    {
     "name": "stdout",
     "output_type": "stream",
     "text": [
      "[  6.62600000e-34   1.32520000e-33   1.98780000e-33   2.65040000e-33\n",
      "   3.31300000e-33   3.97560000e-33] Hz kg m2 / s\n"
     ]
    }
   ],
   "source": [
    "# Quantities (and their units) can be combined through algebraic manipulation:\n",
    "new_data = (6.626e-34 * u.m**2 * u.kg / u.second) * my_data\n",
    "print(new_data)"
   ]
  },
  {
   "cell_type": "markdown",
   "metadata": {},
   "source": [
    "Since the computer knows the physical types of each unit, it is able to make conversions between them. Let's use this to simplify `my_data`. The `decompose` method will try to use the most basic units, while the `.si` and `.cgs` will attempt simple representations with those two bases:"
   ]
  },
  {
   "cell_type": "code",
   "execution_count": 19,
   "metadata": {
    "collapsed": false,
    "scrolled": false
   },
   "outputs": [
    {
     "name": "stdout",
     "output_type": "stream",
     "text": [
      "[  6.62600000e-27   1.32520000e-26   1.98780000e-26   2.65040000e-26\n",
      "   3.31300000e-26   3.97560000e-26] erg\n",
      "[  6.62600000e-34   1.32520000e-33   1.98780000e-33   2.65040000e-33\n",
      "   3.31300000e-33   3.97560000e-33] m N\n",
      "[  6.62600000e-34   1.32520000e-33   1.98780000e-33   2.65040000e-33\n",
      "   3.31300000e-33   3.97560000e-33] kg m2 / s2\n"
     ]
    }
   ],
   "source": [
    "print(new_data.cgs)\n",
    "print(new_data.si)\n",
    "print(new_data.decompose())"
   ]
  },
  {
   "cell_type": "code",
   "execution_count": 20,
   "metadata": {
    "collapsed": false,
    "scrolled": false
   },
   "outputs": [
    {
     "name": "stdout",
     "output_type": "stream",
     "text": [
      "energy\n",
      "[  6.62600000e-34   1.32520000e-33   1.98780000e-33   2.65040000e-33\n",
      "   3.31300000e-33   3.97560000e-33] J\n",
      "[  4.13562409e-15   8.27124818e-15   1.24068723e-14   1.65424964e-14\n",
      "   2.06781205e-14   2.48137445e-14] eV\n"
     ]
    }
   ],
   "source": [
    "# We can use the to() method to convert to anything with the same physical_type\n",
    "print(new_data.unit.physical_type)\n",
    "print(new_data.to(u.joule))\n",
    "print(new_data.to(u.eV))"
   ]
  },
  {
   "cell_type": "code",
   "execution_count": 21,
   "metadata": {
    "collapsed": false,
    "scrolled": false
   },
   "outputs": [
    {
     "data": {
      "text/latex": [
       "$86631219 \\; \\mathrm{AU}$"
      ],
      "text/plain": [
       "<Quantity 86631218.62310173 AU>"
      ]
     },
     "execution_count": 21,
     "metadata": {},
     "output_type": "execute_result"
    }
   ],
   "source": [
    "# With the to() method, unit changes are relatively straightforward:\n",
    "(420*u.parsec).to(u.AU)"
   ]
  },
  {
   "cell_type": "markdown",
   "metadata": {},
   "source": [
    "Astropy also includes constants in another submodule, `astropy.constants`. For example, the average magnitude of the gravitational force of the Earth on the Sun, in SI units, is:"
   ]
  },
  {
   "cell_type": "code",
   "execution_count": 22,
   "metadata": {
    "collapsed": false,
    "scrolled": false
   },
   "outputs": [
    {
     "data": {
      "text/latex": [
       "$3.5437358 \\times 10^{22} \\; \\mathrm{N}$"
      ],
      "text/plain": [
       "<Quantity 3.5437358440554594e+22 N>"
      ]
     },
     "execution_count": 22,
     "metadata": {},
     "output_type": "execute_result"
    }
   ],
   "source": [
    "from astropy.constants import M_earth, G, M_sun\n",
    "(G * M_earth * M_sun / u.AU**2).to(u.N)"
   ]
  },
  {
   "cell_type": "markdown",
   "metadata": {},
   "source": [
    "Astropy will even convert units that are not physically compatible, if you are explicit about how to do the conversion. For example, the relationship between wavelength and frequency of light is defined by the choice of the speed of light, allowing the conversion of one to the other:"
   ]
  },
  {
   "cell_type": "code",
   "execution_count": 23,
   "metadata": {
    "collapsed": false,
    "scrolled": false
   },
   "outputs": [
    {
     "data": {
      "text/latex": [
       "$666205.46 \\; \\mathrm{GHz}$"
      ],
      "text/plain": [
       "<Quantity 666205.4622222221 GHz>"
      ]
     },
     "execution_count": 23,
     "metadata": {},
     "output_type": "execute_result"
    }
   ],
   "source": [
    "(450. * u.nm).to(u.GHz, equivalencies=u.spectral())"
   ]
  },
  {
   "cell_type": "markdown",
   "metadata": {},
   "source": [
    "A very useful trick is that Astropy will even convert units that require extra information to do so. For example, flux density is usually defined as a density with respect to wavelength or frequency, with the two forms convertable via:\n",
    "$$ \\nu f_\\nu = \\lambda f_\\lambda$$\n",
    "To convert between the different definitions of flux density, we merely need to supply the wavelength or frequency used:"
   ]
  },
  {
   "cell_type": "code",
   "execution_count": 24,
   "metadata": {
    "collapsed": false,
    "scrolled": false
   },
   "outputs": [
    {
     "name": "stdout",
     "output_type": "stream",
     "text": [
      "3.3356409519815205e-06 Jy\n",
      "3.335695650530986e-06 Jy\n"
     ]
    }
   ],
   "source": [
    "f_lambda = (1e-18 * u.erg / u.cm**2 / u.s / u.angstrom)\n",
    "\n",
    "print(f_lambda.to(u.Jy, equivalencies=u.equivalencies.spectral_density(1*u.micron)))\n",
    "print(f_lambda.to(u.Jy, equivalencies=u.equivalencies.spectral_density(299.79*u.THz)))"
   ]
  },
  {
   "cell_type": "markdown",
   "metadata": {},
   "source": [
    "##Celestial Coordinate Systems\n",
    "\n",
    "What about units that coorrespond to locations?\n",
    "\n",
    "While there does exists `u.degree` and `u.arcsecond`, the essential coordinate manipulation is part of the `astropy.coordinates` submodule. Coordinate conversions, catalog conversions, and [more](https://astropy.readthedocs.org/en/stable/coordinates/index.html) are supported."
   ]
  },
  {
   "cell_type": "code",
   "execution_count": 25,
   "metadata": {
    "collapsed": false,
    "scrolled": false
   },
   "outputs": [
    {
     "name": "stdout",
     "output_type": "stream",
     "text": [
      "<SkyCoord (ICRS): (ra, dec) in deg\n",
      "    (358.0, 56.0)>\n",
      "<SkyCoord (ICRS): (ra, dec) in deg\n",
      "    (15.0, 5.0)>\n",
      "<SkyCoord (ICRS): (ra, dec) in deg\n",
      "    (30.50416667, 9.1525)>\n",
      "<SkyCoord (FK4: equinox=B1950.000, obstime=B1950.000): (ra, dec) in deg\n",
      "    (357.68, 52.3)>\n",
      "<SkyCoord (ICRS): (ra, dec) in deg\n",
      "    (210.8024292, 54.34875)>\n"
     ]
    }
   ],
   "source": [
    "# Let's import the main class used, SkyCoord, and create a couple SkyCoord objects:\n",
    "from astropy.coordinates import SkyCoord\n",
    "\n",
    "print(SkyCoord(-2*u.deg, 56*u.deg))\n",
    "print(SkyCoord(1*u.hourangle, 5*u.degree))\n",
    "print(SkyCoord('2h2m1s 9d9m9s'))\n",
    "print(SkyCoord('-2.32d', '52.3d', frame='fk4'))\n",
    "print(SkyCoord.from_name(\"M101\"))\n",
    "\n",
    "sc = SkyCoord('25d 35d')"
   ]
  },
  {
   "cell_type": "code",
   "execution_count": 26,
   "metadata": {
    "collapsed": false,
    "scrolled": false
   },
   "outputs": [
    {
     "name": "stdout",
     "output_type": "stream",
     "text": [
      "25d00m00s\n",
      "35d00m00s\n"
     ]
    }
   ],
   "source": [
    "# We can retrive the coordinates we used to create these objects:\n",
    "print(sc.ra)\n",
    "print(sc.dec)"
   ]
  },
  {
   "cell_type": "code",
   "execution_count": 27,
   "metadata": {
    "collapsed": false,
    "scrolled": false
   },
   "outputs": [
    {
     "name": "stdout",
     "output_type": "stream",
     "text": [
      "<SkyCoord (FK4: equinox=B1950.000, obstime=B1950.000): (ra, dec) in deg\n",
      "    (24.2784772, 34.74698881)>\n",
      "<SkyCoord (Galactic): (l, b) in deg\n",
      "    (134.06227255, -26.81998852)>\n"
     ]
    }
   ],
   "source": [
    "# We can transform coordinates to different representations (i.e., coordinate systems)\n",
    "print(sc.transform_to('fk4'))\n",
    "print(sc.transform_to('galactic'))"
   ]
  },
  {
   "cell_type": "code",
   "execution_count": 28,
   "metadata": {
    "collapsed": false,
    "scrolled": false
   },
   "outputs": [
    {
     "name": "stdout",
     "output_type": "stream",
     "text": [
      "108d32m47.6553s\n"
     ]
    }
   ],
   "source": [
    "# Seperations and position angles are calculatable from SkyCoord objects:\n",
    "sc2 = SkyCoord('35d 25d', frame='galactic')\n",
    "print(sc.separation(sc2))"
   ]
  },
  {
   "cell_type": "code",
   "execution_count": 29,
   "metadata": {
    "collapsed": false,
    "scrolled": false
   },
   "outputs": [
    {
     "name": "stdout",
     "output_type": "stream",
     "text": [
      "(array(382308.9779641907), array(317244.5334360448))\n",
      "<SkyCoord (ICRS): (ra, dec) in deg\n",
      "    (85.39827201, -2.58178063)>\n"
     ]
    }
   ],
   "source": [
    "# When we have a world coordinate system (e.g., from a FITS file header), we can convert to and from pixel coordinates:\n",
    "from astropy.wcs import WCS\n",
    "w = WCS(hdu_list[0].header)\n",
    "\n",
    "print(sc.to_pixel(w))\n",
    "print(SkyCoord.from_pixel(5, 5, w))"
   ]
  },
  {
   "cell_type": "markdown",
   "metadata": {},
   "source": [
    "## Honorable Mentions in Astropy\n",
    "These are some things that I'm not very familiar with, but I want to point out with a few quick examples."
   ]
  },
  {
   "cell_type": "markdown",
   "metadata": {},
   "source": [
    "### votable\n",
    "VOTables are an alternative format to FITS in use by virtual observatory projects. This one is difficult to prepare a head of time, since these are typically generated on the fly in response to search/database queries. `astropy.io.votable` handles these files."
   ]
  },
  {
   "cell_type": "markdown",
   "metadata": {},
   "source": [
    "### Modeling\n",
    "The `astropy.modeling` submodule is concerned with the fitting of models to data. The goal is to make it easy to fit or represent your data using common models, such as broken power laws or other composite models.\n",
    "\n",
    "For example, here is some synthetic data that is roughly Gaussian-like:"
   ]
  },
  {
   "cell_type": "code",
   "execution_count": 30,
   "metadata": {
    "collapsed": false,
    "scrolled": false
   },
   "outputs": [
    {
     "data": {
      "text/plain": [
       "<matplotlib.text.Text at 0x7f843bbff748>"
      ]
     },
     "execution_count": 30,
     "metadata": {},
     "output_type": "execute_result"
    },
    {
     "data": {
      "image/png": "[encoded data removed]",
      "text/plain": [
       "<matplotlib.figure.Figure at 0x7f843bdc6eb8>"
      ]
     },
     "metadata": {},
     "output_type": "display_data"
    }
   ],
   "source": [
    "import numpy as np\n",
    "from astropy.modeling import models, fitting\n",
    "\n",
    "\n",
    "np.random.seed(0)\n",
    "x = np.linspace(-5., 5., 200)\n",
    "y = 3 * np.exp(-0.5 * (x - 1.3)**2 / 0.8**2)\n",
    "y += np.random.normal(0., 0.2, x.shape)\n",
    "plt.plot(x, y, 'ko')\n",
    "plt.xlabel('Position')\n",
    "plt.ylabel('Flux')"
   ]
  },
  {
   "cell_type": "code",
   "execution_count": 31,
   "metadata": {
    "collapsed": false,
    "scrolled": false
   },
   "outputs": [
    {
     "data": {
      "text/plain": [
       "<matplotlib.text.Text at 0x7f8450aabf98>"
      ]
     },
     "execution_count": 31,
     "metadata": {},
     "output_type": "execute_result"
    },
    {
     "data": {
      "image/png": "[encoded data removed]",
      "text/plain": [
       "<matplotlib.figure.Figure at 0x7f8466195ba8>"
      ]
     },
     "metadata": {},
     "output_type": "display_data"
    }
   ],
   "source": [
    "# Fit the data using a Gaussian\n",
    "model_object = models.Gaussian1D(amplitude=1., mean=0, stddev=1.)\n",
    "fiter = fitting.LevMarLSQFitter()\n",
    "g = fiter(model_object, x, y)\n",
    "\n",
    "plt.plot(x, y, 'ko')\n",
    "plt.plot(x, g(x), 'r-', lw=2)\n",
    "plt.xlabel('Position')\n",
    "plt.ylabel('Flux')"
   ]
  },
  {
   "cell_type": "code",
   "execution_count": 32,
   "metadata": {
    "collapsed": false,
    "scrolled": false
   },
   "outputs": [
    {
     "name": "stdout",
     "output_type": "stream",
     "text": [
      "Model: Gaussian1D\n",
      "Inputs: ('x',)\n",
      "Outputs: ('y',)\n",
      "Model set size: 1\n",
      "Parameters:\n",
      "      amplitude        mean         stddev    \n",
      "    ------------- ------------- --------------\n",
      "    3.04705246874 1.27430145809 0.813535026407\n"
     ]
    }
   ],
   "source": [
    "# Get information about the fitted model:\n",
    "print(g)"
   ]
  },
  {
   "cell_type": "markdown",
   "metadata": {},
   "source": [
    "### Cosmology\n",
    "There is also some work for cosmology computations, specifically with different cosmologies.\n",
    "\n",
    "For this, it is essential to load a `Cosmology` object. These are, by convention, named `cosmo`:"
   ]
  },
  {
   "cell_type": "code",
   "execution_count": 33,
   "metadata": {
    "collapsed": false,
    "scrolled": false
   },
   "outputs": [
    {
     "name": "stdout",
     "output_type": "stream",
     "text": [
      "69.32 km / (Mpc s)\n"
     ]
    }
   ],
   "source": [
    "# Load the 9-year WMAP Cosmology and get H_0\n",
    "from astropy.cosmology import WMAP9 as cosmo\n",
    "print(cosmo.H(0))"
   ]
  },
  {
   "cell_type": "code",
   "execution_count": 34,
   "metadata": {
    "collapsed": false,
    "scrolled": false
   },
   "outputs": [
    {
     "name": "stdout",
     "output_type": "stream",
     "text": [
      "5.922228776289075 Gyr\n"
     ]
    }
   ],
   "source": [
    "# find the age of the universe at a given redshift:\n",
    "print(cosmo.age(1))"
   ]
  },
  {
   "cell_type": "code",
   "execution_count": 35,
   "metadata": {
    "collapsed": false,
    "scrolled": false
   },
   "outputs": [
    {
     "name": "stdout",
     "output_type": "stream",
     "text": [
      "5.8631661413140685 Gyr\n"
     ]
    }
   ],
   "source": [
    "# Other cosmologies are avaliable\n",
    "from astropy.cosmology import Planck13 as cosmo\n",
    "print(cosmo.age(1))"
   ]
  },
  {
   "cell_type": "code",
   "execution_count": 36,
   "metadata": {
    "collapsed": false,
    "scrolled": false
   },
   "outputs": [
    {
     "name": "stdout",
     "output_type": "stream",
     "text": [
      "5.74698053003206 Gyr\n"
     ]
    }
   ],
   "source": [
    "# Build your own cosmology\n",
    "from astropy.cosmology import FlatLambdaCDM\n",
    "cosmo = FlatLambdaCDM(H0=70, Om0=0.3, Ob0=0.05)\n",
    "print(cosmo.age(1))"
   ]
  },
  {
   "cell_type": "markdown",
   "metadata": {},
   "source": [
    "## Affliated Packages\n",
    "I don't believe I'll have time to address these, but it is worth pointing out these useful packages:\n",
    "- [APLpy](https://aplpy.github.io/): A package for using WCS coordinates in `matplotlib`.\n",
    "- [specutils](https://github.com/astropy/specutils), [photutils](https://github.com/astropy/photutils), and [ccdproc](https://github.com/astropy/ccdproc): Packages for analyzing 1-D spectrum, photometry, and CCD image reduction. These are likely to be included in Astropy in the future.\n",
    "- [astroquery](https://github.com/astropy/astroquery): An interface to many public (and restricted) online resources for downloading astronomical data."
   ]
  }
 ],
 "metadata": {
  "kernelspec": {
   "display_name": "Python 3",
   "language": "python",
   "name": "python3"
  },
  "language_info": {
   "codemirror_mode": {
    "name": "ipython",
    "version": 3
   },
   "file_extension": ".py",
   "mimetype": "text/x-python",
   "name": "python",
   "nbconvert_exporter": "python",
   "pygments_lexer": "ipython3",
   "version": "3.4.3"
  }
 },
 "nbformat": 4,
 "nbformat_minor": 0
}
